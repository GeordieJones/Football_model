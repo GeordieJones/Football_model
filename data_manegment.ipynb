{
 "cells": [
  {
   "cell_type": "code",
   "execution_count": 1,
   "id": "f1910ecc",
   "metadata": {},
   "outputs": [
    {
     "name": "stderr",
     "output_type": "stream",
     "text": [
      "C:\\Users\\Geordie Jones\\AppData\\Local\\Temp\\ipykernel_15928\\3754104256.py:4: DtypeWarning: Columns (47) have mixed types. Specify dtype option on import or set low_memory=False.\n",
      "  df = pd.read_csv(r\"C:\\Users\\Geordie Jones\\Downloads\\train.csv.zip\", compression='zip')\n"
     ]
    },
    {
     "name": "stdout",
     "output_type": "stream",
     "text": [
      "       GameId          PlayId  Team      X      Y     S     A   Dis  \\\n",
      "0  2017090700  20170907000118  away  73.91  34.84  1.69  1.13  0.40   \n",
      "1  2017090700  20170907000118  away  74.67  32.64  0.42  1.35  0.01   \n",
      "2  2017090700  20170907000118  away  74.00  33.20  1.22  0.59  0.31   \n",
      "3  2017090700  20170907000118  away  71.46  27.70  0.42  0.54  0.02   \n",
      "4  2017090700  20170907000118  away  69.32  35.42  1.82  2.43  0.16   \n",
      "\n",
      "   Orientation     Dir  ...  Week           Stadium        Location  \\\n",
      "0        81.99  177.18  ...     1  Gillette Stadium  Foxborough, MA   \n",
      "1        27.61  198.70  ...     1  Gillette Stadium  Foxborough, MA   \n",
      "2         3.01  202.73  ...     1  Gillette Stadium  Foxborough, MA   \n",
      "3       359.77  105.64  ...     1  Gillette Stadium  Foxborough, MA   \n",
      "4        12.63  164.31  ...     1  Gillette Stadium  Foxborough, MA   \n",
      "\n",
      "   StadiumType        Turf     GameWeather Temperature Humidity  WindSpeed  \\\n",
      "0      Outdoor  Field Turf  Clear and warm        63.0     77.0        8.0   \n",
      "1      Outdoor  Field Turf  Clear and warm        63.0     77.0        8.0   \n",
      "2      Outdoor  Field Turf  Clear and warm        63.0     77.0        8.0   \n",
      "3      Outdoor  Field Turf  Clear and warm        63.0     77.0        8.0   \n",
      "4      Outdoor  Field Turf  Clear and warm        63.0     77.0        8.0   \n",
      "\n",
      "   WindDirection  \n",
      "0             SW  \n",
      "1             SW  \n",
      "2             SW  \n",
      "3             SW  \n",
      "4             SW  \n",
      "\n",
      "[5 rows x 49 columns]\n"
     ]
    }
   ],
   "source": [
    "import pandas as pd\n",
    "\n",
    "# Windows example\n",
    "df = pd.read_csv(r\"C:\\Users\\Geordie Jones\\Downloads\\train.csv.zip\", compression='zip')\n",
    "\n",
    "print(df.head())\n"
   ]
  },
  {
   "cell_type": "code",
   "execution_count": 2,
   "id": "95582fdf",
   "metadata": {},
   "outputs": [
    {
     "data": {
      "text/plain": [
       "Index(['GameId', 'PlayId', 'Team', 'X', 'Y', 'S', 'A', 'Dis', 'Orientation',\n",
       "       'Dir', 'NflId', 'DisplayName', 'JerseyNumber', 'Season', 'YardLine',\n",
       "       'Quarter', 'GameClock', 'PossessionTeam', 'Down', 'Distance',\n",
       "       'FieldPosition', 'HomeScoreBeforePlay', 'VisitorScoreBeforePlay',\n",
       "       'NflIdRusher', 'OffenseFormation', 'OffensePersonnel',\n",
       "       'DefendersInTheBox', 'DefensePersonnel', 'PlayDirection', 'TimeHandoff',\n",
       "       'TimeSnap', 'Yards', 'PlayerHeight', 'PlayerWeight', 'PlayerBirthDate',\n",
       "       'PlayerCollegeName', 'Position', 'HomeTeamAbbr', 'VisitorTeamAbbr',\n",
       "       'Week', 'Stadium', 'Location', 'StadiumType', 'Turf', 'GameWeather',\n",
       "       'Temperature', 'Humidity', 'WindSpeed', 'WindDirection'],\n",
       "      dtype='object')"
      ]
     },
     "execution_count": 2,
     "metadata": {},
     "output_type": "execute_result"
    }
   ],
   "source": [
    "df.columns"
   ]
  },
  {
   "cell_type": "code",
   "execution_count": 4,
   "id": "af3f05ae",
   "metadata": {},
   "outputs": [
    {
     "name": "stdout",
     "output_type": "stream",
     "text": [
      "  PossessionTeam FieldPosition OffenseFormation  OffensePersonnel  \\\n",
      "0             NE            NE          SHOTGUN  1 RB, 1 TE, 3 WR   \n",
      "1             NE            NE          SHOTGUN  1 RB, 1 TE, 3 WR   \n",
      "2             NE            NE          SHOTGUN  1 RB, 1 TE, 3 WR   \n",
      "3             NE            NE          SHOTGUN  1 RB, 1 TE, 3 WR   \n",
      "4             NE            NE          SHOTGUN  1 RB, 1 TE, 3 WR   \n",
      "\n",
      "   DefendersInTheBox  DefensePersonnel Position PlayDirection  \n",
      "0                6.0  2 DL, 3 LB, 6 DB       SS          left  \n",
      "1                6.0  2 DL, 3 LB, 6 DB       DE          left  \n",
      "2                6.0  2 DL, 3 LB, 6 DB       DE          left  \n",
      "3                6.0  2 DL, 3 LB, 6 DB      ILB          left  \n",
      "4                6.0  2 DL, 3 LB, 6 DB       FS          left  \n"
     ]
    }
   ],
   "source": [
    "check = df[['PossessionTeam','FieldPosition','OffenseFormation', 'OffensePersonnel',\n",
    "            'DefendersInTheBox', 'DefensePersonnel','Position','PlayDirection']]\n",
    "print(check.head())"
   ]
  }
 ],
 "metadata": {
  "kernelspec": {
   "display_name": "basic",
   "language": "python",
   "name": "python3"
  },
  "language_info": {
   "codemirror_mode": {
    "name": "ipython",
    "version": 3
   },
   "file_extension": ".py",
   "mimetype": "text/x-python",
   "name": "python",
   "nbconvert_exporter": "python",
   "pygments_lexer": "ipython3",
   "version": "3.11.13"
  }
 },
 "nbformat": 4,
 "nbformat_minor": 5
}
